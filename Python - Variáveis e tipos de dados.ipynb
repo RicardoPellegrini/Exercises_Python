{
 "cells": [
  {
   "cell_type": "markdown",
   "metadata": {},
   "source": [
    "# Exercícios sobre variáveis e tipos de dados"
   ]
  },
  {
   "cell_type": "markdown",
   "metadata": {},
   "source": [
    "**Questão 1** - Leia um número inteiro e dê seu sucessor e antecessor."
   ]
  },
  {
   "cell_type": "code",
   "execution_count": 1,
   "metadata": {},
   "outputs": [
    {
     "name": "stdout",
     "output_type": "stream",
     "text": [
      "De um numero inteiro: 2\n",
      "O numero 2 tem 1 como antecessor e 3 como sucessor\n"
     ]
    }
   ],
   "source": [
    "a = int(input('De um numero inteiro: '))\n",
    "print(f'O numero {a} tem {a-1} como antecessor e {a+1} como sucessor')"
   ]
  },
  {
   "cell_type": "markdown",
   "metadata": {},
   "source": [
    "**Questão 2** - Leia um número inteiro e dê a soma do sucessor de seu triplo com o antecessor do seu dobro."
   ]
  },
  {
   "cell_type": "code",
   "execution_count": 2,
   "metadata": {},
   "outputs": [
    {
     "name": "stdout",
     "output_type": "stream",
     "text": [
      "De um numero inteiro: 3\n",
      "A soma para 3 é 15\n"
     ]
    }
   ],
   "source": [
    "b = int(input('De um numero inteiro: '))\n",
    "s = (b*3+1)+(b*2-1)\n",
    "print('A soma para {} é {}'.format(b,s))"
   ]
  },
  {
   "cell_type": "markdown",
   "metadata": {},
   "source": [
    "**Questão 3** - Leia o valor do raio do circulo e imprima a área do mesmo."
   ]
  },
  {
   "cell_type": "code",
   "execution_count": 3,
   "metadata": {},
   "outputs": [
    {
     "name": "stdout",
     "output_type": "stream",
     "text": [
      "De o valor do raio: 5\n",
      "O valor da area do circulo é 78.53981633974483\n"
     ]
    }
   ],
   "source": [
    "from math import pi\n",
    "r = float(input('De o valor do raio: '))\n",
    "print(f'O valor da area do circulo é {pi*r**2}')"
   ]
  },
  {
   "cell_type": "markdown",
   "metadata": {},
   "source": [
    "**Questão 4** - Sejam a e b os valores dos catetos de um triângulo, dê o resultado da hipotenusa correspondente."
   ]
  },
  {
   "cell_type": "code",
   "execution_count": 4,
   "metadata": {},
   "outputs": [
    {
     "name": "stdout",
     "output_type": "stream",
     "text": [
      "De o valor de um cateto: 4\n",
      "De o valor do outro cateto: 6\n",
      "A hipotenusa vale 7.21\n"
     ]
    }
   ],
   "source": [
    "import math\n",
    "a = float(input('De o valor de um cateto: '))\n",
    "b = float(input('De o valor do outro cateto: '))\n",
    "print('A hipotenusa vale {:.2f}'.format(math.sqrt(a**2+b**2)))"
   ]
  },
  {
   "cell_type": "markdown",
   "metadata": {},
   "source": [
    "**Questão 5** - Uma empresa contrata um encanador a R$ 30.00 por dia. Faça um programa que solicite o número de dias trabalhados e imprima a quantia líquida que deve ser paga, sabendo que são descontados 8% de imposto de renda."
   ]
  },
  {
   "cell_type": "code",
   "execution_count": 5,
   "metadata": {},
   "outputs": [
    {
     "name": "stdout",
     "output_type": "stream",
     "text": [
      "Informe o numero de dias: 84\n",
      "O valor a ser pago é de R$ 2318.40\n"
     ]
    }
   ],
   "source": [
    "d = int(input('Informe o numero de dias: '))\n",
    "print('O valor a ser pago é de R$ {:.2f}'.format(d*30*0.92))"
   ]
  },
  {
   "cell_type": "markdown",
   "metadata": {},
   "source": [
    "**Questão 6** - Faça um programa que leia o valor da hora de trabalho em reais e o número de horas trabalhadas no mês. Imprima o valor a ser pago, adicionando 10% ao valor."
   ]
  },
  {
   "cell_type": "code",
   "execution_count": 6,
   "metadata": {},
   "outputs": [
    {
     "name": "stdout",
     "output_type": "stream",
     "text": [
      "Informe o valor da hora de trabalho: 63\n",
      "Informe o numero de horas trabalhadas: 84\n",
      "O valor a ser pago é R$ 5821.20\n"
     ]
    }
   ],
   "source": [
    "v = float(input('Informe o valor da hora de trabalho: '))\n",
    "h = float(input('Informe o numero de horas trabalhadas: '))\n",
    "print('O valor a ser pago é R$ {:.2f}'.format(v*h*1.1))"
   ]
  },
  {
   "cell_type": "markdown",
   "metadata": {},
   "source": [
    "**Questão 7** - Três amigos jogaram na loteria. Caso eles ganhem, o prêmio deve ser repartido proporcionalmente ao valor que cada um deu para a realização da aposta. Faça um programa que leia o valor do premio, quanto cada um investiu e quanto cada um ganhará do prêmio."
   ]
  },
  {
   "cell_type": "code",
   "execution_count": 7,
   "metadata": {},
   "outputs": [
    {
     "name": "stdout",
     "output_type": "stream",
     "text": [
      "Informe o valor do prêmio: 896532\n",
      "Investimento jogador 1: 2\n",
      "Investimento jogador 2: 3\n",
      "Investimento jogador 3: 9\n",
      "O jogador 1 deve ganhar: R$ 128076.00\n",
      "O jogador 2 deve ganhar: R$ 192114.00\n",
      "O jogador 3 deve ganhar: R$ 576342.00\n"
     ]
    }
   ],
   "source": [
    "premio = float(input('Informe o valor do prêmio: '))\n",
    "invest1 = float(input('Investimento jogador 1: '))\n",
    "invest2 = float(input('Investimento jogador 2: '))\n",
    "invest3 = float(input('Investimento jogador 3: '))\n",
    "print('O jogador 1 deve ganhar: R$ {:.2f}'.format(invest1*premio/(invest1+invest2+invest3)))\n",
    "print('O jogador 2 deve ganhar: R$ {:.2f}'.format(invest2*premio/(invest1+invest2+invest3)))\n",
    "print('O jogador 3 deve ganhar: R$ {:.2f}'.format(invest3*premio/(invest1+invest2+invest3)))"
   ]
  },
  {
   "cell_type": "markdown",
   "metadata": {},
   "source": [
    "**Questão 8** - Faça um programa que receba um número inteiro de três digitos, e que devolva o número invertido."
   ]
  },
  {
   "cell_type": "code",
   "execution_count": 8,
   "metadata": {},
   "outputs": [
    {
     "name": "stdout",
     "output_type": "stream",
     "text": [
      "Digite o numero de três digitos: 149\n",
      "Numero lido: 149\n",
      "Numero gerado: 941\n"
     ]
    }
   ],
   "source": [
    "num = input('Digite o numero de três digitos: ')\n",
    "print(f'Numero lido: {num}')\n",
    "print(f'Numero gerado: {num[::-1]}')"
   ]
  },
  {
   "cell_type": "markdown",
   "metadata": {},
   "source": [
    "**Questão 9** - Leia um número inteiro de quatro dígitos e escreva um em cada linha."
   ]
  },
  {
   "cell_type": "code",
   "execution_count": 9,
   "metadata": {},
   "outputs": [
    {
     "name": "stdout",
     "output_type": "stream",
     "text": [
      "Digite o numero: 5\n",
      "5\n"
     ]
    }
   ],
   "source": [
    "numero = input('Digite o numero: ')\n",
    "for n in numero:\n",
    "    print(n)"
   ]
  },
  {
   "cell_type": "markdown",
   "metadata": {},
   "source": [
    "**Questão 10** - Leia um valor em segundos e o transforme em horas, minutos e segundos."
   ]
  },
  {
   "cell_type": "code",
   "execution_count": 23,
   "metadata": {},
   "outputs": [
    {
     "name": "stdout",
     "output_type": "stream",
     "text": [
      "Digite o tempo em segundos: 8000\n",
      "Horário: 2:13:20\n"
     ]
    }
   ],
   "source": [
    "tempo = int(input('Digite o tempo em segundos: '))\n",
    "horas = tempo//3600\n",
    "minutos = int((tempo/3600-horas)*60)\n",
    "segundos = int((tempo/3600-horas)*60-minutos)*60\n",
    "print('Horário: {}:{}:{}'.format(horas, minutos, segundos))"
   ]
  },
  {
   "cell_type": "markdown",
   "metadata": {},
   "source": [
    "**Questão 11** - Faça um programa que leia o horário inicial e a duração do experimento, e retorne o horário final."
   ]
  },
  {
   "cell_type": "code",
   "execution_count": 10,
   "metadata": {},
   "outputs": [
    {
     "name": "stdout",
     "output_type": "stream",
     "text": [
      "Informe o horario do inicio no formato hh:mm:ss: 23:58:10\n",
      "Digite a duracao em segundos: 1000\n",
      "Horario final: 0:14:50\n"
     ]
    }
   ],
   "source": [
    "inicio = str(input('Informe o horario do inicio no formato hh:mm:ss: '))\n",
    "hi, mi, si = inicio.split(':')\n",
    "hi = int(hi)\n",
    "mi = int(mi)\n",
    "si = int(si)\n",
    "tempo = int(input('Digite a duracao em segundos: '))\n",
    "horas = tempo//3600\n",
    "minutos = int((tempo/3600-horas)*60)\n",
    "segundos = ((tempo/3600-horas)*60-minutos)*60\n",
    "hf = hi+horas\n",
    "mf = mi+minutos\n",
    "sf = int(si+segundos)\n",
    "if sf >= 60: \n",
    "    sf = sf-60\n",
    "    mf = mf+1\n",
    "if mf >= 60:\n",
    "    mf = mf-60\n",
    "    hf = hf+1\n",
    "if hf >= 24:\n",
    "    hf = hf-24\n",
    "print('Horario final: {}:{}:{}'.format(hf,mf,sf))"
   ]
  }
 ],
 "metadata": {
  "kernelspec": {
   "display_name": "Python 3",
   "language": "python",
   "name": "python3"
  },
  "language_info": {
   "codemirror_mode": {
    "name": "ipython",
    "version": 3
   },
   "file_extension": ".py",
   "mimetype": "text/x-python",
   "name": "python",
   "nbconvert_exporter": "python",
   "pygments_lexer": "ipython3",
   "version": "3.6.5"
  }
 },
 "nbformat": 4,
 "nbformat_minor": 2
}
