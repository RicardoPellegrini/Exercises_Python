{
 "cells": [
  {
   "cell_type": "markdown",
   "metadata": {},
   "source": [
    "# Estruturas lógicas e condicionais"
   ]
  },
  {
   "cell_type": "markdown",
   "metadata": {},
   "source": [
    "**Questão 1** - Faça um algoritmo que calcule o IMC da pessoa, dada altura e peso."
   ]
  },
  {
   "cell_type": "code",
   "execution_count": 3,
   "metadata": {},
   "outputs": [
    {
     "name": "stdout",
     "output_type": "stream",
     "text": [
      "Dê o peso em kg: 90\n",
      "Dê a altura em metros: 1.75\n",
      "IMC: 29.39\n",
      "Peso em excesso\n"
     ]
    }
   ],
   "source": [
    "massa = float(input('Dê o peso em kg: '))\n",
    "altura = float(input('Dê a altura em metros: '))\n",
    "imc = massa/(altura**2)\n",
    "print(f'IMC: {round(imc,2)}')\n",
    "if imc < 18.5:\n",
    "    print('Abaixo do peso')\n",
    "elif imc >= 18.5 and imc < 25:\n",
    "    print('Saudável')\n",
    "elif imc >= 25 and imc < 30:\n",
    "    print('Peso em excesso')\n",
    "elif imc >= 30 and imc < 35:\n",
    "    print('Obesidade grau I')\n",
    "elif imc >= 35 and imc < 40:\n",
    "    print('Obesidade grau II (severa)')\n",
    "else:\n",
    "    print('Obesidade grau III (mórbida)')\n"
   ]
  },
  {
   "cell_type": "markdown",
   "metadata": {},
   "source": [
    "**Questão 2** - Leia uma data de nascimento e verifique se a mesma fornecida é válida. A data deve ser fornecida por dia, mês e ano."
   ]
  },
  {
   "cell_type": "code",
   "execution_count": null,
   "metadata": {},
   "outputs": [],
   "source": [
    "# Verificando se o ano fornecido é bissexto:\n",
    "dia = int(input('De o dia: '))\n",
    "mes = int(input('De o mes: '))\n",
    "ano = int(input('Digite o ano: '))\n",
    "if ((ano % 4 == 0) or (ano % 400 == 0) or (ano % 100 == 0)):\n",
    "    b = True\n",
    "else:\n",
    "    b = False\n",
    "print('Data: {}/{}/{}'.format(dia,mes,ano))\n",
    "\n",
    "# Verificando se a data é válida:\n",
    "if ano in range(1,10000):\n",
    "    # Verificando meses com 31 dias:\n",
    "    if mes in [1,3,5,7,8,10,12]:\n",
    "        if dia in range(1,32):\n",
    "            print('Data válida')\n",
    "        else: print('Data inválida, nenhum mes possui mais que 31 dias.')\n",
    "    # Verificando meses com 30 dias:\n",
    "    elif mes in [4,6,9,11]:\n",
    "        if dia in range(1,31):\n",
    "            print('Data válida')\n",
    "        else: print('Data inválida, esse mes possui apenas 30 dias.')\n",
    "    # Verificando o mês de fevereiro, quando é bissexto ou não:\n",
    "    elif mes == 2:\n",
    "        if b == True:\n",
    "            if dia in range(1,30):\n",
    "                print('Data válida')\n",
    "            else: print('Data inválida, esse ano é bissexto e possui 29 dias em fevereiro.')\n",
    "        else:\n",
    "            if dia in range(1,29):\n",
    "                print('Data válida')\n",
    "            else: print('Data inválida, esse ano não possui 29 dias em fevereiro.')\n",
    "else:\n",
    "    print('Data inválida, o ano máximo permitido é 9999.')"
   ]
  },
  {
   "cell_type": "markdown",
   "metadata": {},
   "source": [
    "**Questão 3** - Escreva um programa que forneça ao usuário um menu com 4 opções de operações matemáticas. O usuário escolhe dois números e depois a operação desejada."
   ]
  },
  {
   "cell_type": "code",
   "execution_count": null,
   "metadata": {},
   "outputs": [
    {
     "name": "stdout",
     "output_type": "stream",
     "text": [
      "----------------------------------------------\n",
      "Selecione a operacao desejada conforme abaixo: \n",
      "\n",
      "1 - SOMA\n",
      "2 - SUBTRACAO\n",
      "3 - MULTIPLICACAO\n",
      "4 - DIVISAO\n",
      "\n",
      "9 - SAIR\n",
      "----------------------------------------------\n"
     ]
    }
   ],
   "source": [
    "print('--'*23)\n",
    "print('Selecione a operacao desejada conforme abaixo: \\n')\n",
    "print('1 - SOMA\\n2 - SUBTRACAO\\n3 - MULTIPLICACAO\\n4 - DIVISAO\\n\\n9 - SAIR')\n",
    "print('--'*23)\n",
    "while True:\n",
    "    op = int(input())\n",
    "    if op not in [1,2,3,4,9]:\n",
    "        op = int(input('Por favor, selecione um dos valores acima.\\n'))\n",
    "    break\n",
    "\n",
    "x = float(input('Insira o primeiro número: '))\n",
    "while True:\n",
    "    y = float(input('Insira o segundo número: '))\n",
    "    if op == 4 and y == 0:\n",
    "        y = float(input('Divisao por zero. Por favor, selecione um número diferente de zero.\\n'))\n",
    "    break\n",
    "\n",
    "if op == 1:\n",
    "    print(f'O resultado de {x} + {y} é {x + y}.')\n",
    "elif op == 2:\n",
    "    print(f'O resultado de {x} - {y} é {x - y}.')\n",
    "elif op == 3:\n",
    "    print(f'O resultado de {x} * {y} é {round(x * y,2)}.')\n",
    "elif op == 4:\n",
    "    print(f'O resultado de {x} / {y} é {round(x / y,2)}.')\n",
    "else:\n",
    "    print('Saindo do programa, até logo!')"
   ]
  },
  {
   "cell_type": "markdown",
   "metadata": {},
   "source": [
    "**Questao 4** - Faça uma prova de matemática para crianças que estão aprendendo a somar números inteiros menores que 100. Escolha números aleatórios entre 1 e 100 e mostre na tela a pergunta: 'Qual a soma de a + b'. Peça a resposta. Faça cinco perguntas aos alunos e forneça as respostas certas, além de quantas vezes o aluno acertou."
   ]
  },
  {
   "cell_type": "code",
   "execution_count": 3,
   "metadata": {},
   "outputs": [
    {
     "name": "stdout",
     "output_type": "stream",
     "text": [
      "Questão 1 - Qual a soma de 39 + 47? 80\n",
      "Você errou, a resposta correta é 86.\n",
      "\n",
      "Questão 2 - Qual a soma de 76 + 53? 105\n",
      "Você errou, a resposta correta é 129.\n",
      "\n",
      "Questão 3 - Qual a soma de 37 + 29? 66\n",
      "Correto.\n",
      "\n",
      "Questão 4 - Qual a soma de 82 + 57? 139\n",
      "Correto.\n",
      "\n",
      "Questão 5 - Qual a soma de 92 + 29? 121\n",
      "Correto.\n",
      "\n",
      "Sua nota final foi: 3\n"
     ]
    }
   ],
   "source": [
    "import random\n",
    "acertos = 0\n",
    "for i in range(1,6):\n",
    "    a = random.randint(1,100)\n",
    "    b = random.randint(1,100)\n",
    "    r = a + b\n",
    "    x = int(input(f'Questão {i} - Qual a soma de {a} + {b}? '))\n",
    "    if x == r:\n",
    "        print('Correto.\\n')\n",
    "        acertos += 1\n",
    "    else:\n",
    "        print(f'Você errou, a resposta correta é {a + b}.\\n')\n",
    "print('Sua nota final foi: {}'.format(acertos))"
   ]
  },
  {
   "cell_type": "code",
   "execution_count": null,
   "metadata": {},
   "outputs": [],
   "source": []
  }
 ],
 "metadata": {
  "kernelspec": {
   "display_name": "Python 3",
   "language": "python",
   "name": "python3"
  },
  "language_info": {
   "codemirror_mode": {
    "name": "ipython",
    "version": 3
   },
   "file_extension": ".py",
   "mimetype": "text/x-python",
   "name": "python",
   "nbconvert_exporter": "python",
   "pygments_lexer": "ipython3",
   "version": "3.6.5"
  }
 },
 "nbformat": 4,
 "nbformat_minor": 2
}
