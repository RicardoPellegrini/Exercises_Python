{
 "cells": [
  {
   "cell_type": "markdown",
   "metadata": {},
   "source": [
    "# Classes"
   ]
  },
  {
   "cell_type": "markdown",
   "metadata": {},
   "source": [
    "**Exercicio 1** - Crie uma classe denominada Elevador para armazenar as informações de um elevador dentro de um prédio. A classe deve armazenar o andar atual (térreo = 0), total de andares, capacidade do elevador, e quantas pessoas estão nele.  \n",
    "A classe deve também disponibilizar os seguintes métodos:  \n",
    "\n",
    "- Inicializa: que deve receber como parâmetros a capacidade do elevador e o total de andares no prédio (elevadores sempre inicializam vazios e do terreo).  \n",
    "- Entra: para acrescentar uma pessoa (caso ainda haja espaço).  \n",
    "- Sai: para remover uma pessoa (desde que haja alguém nele).  \n",
    "- Sobe: para subir um andar (caso já não esteja no topo).  \n",
    "- Desce: para descer um andar (desde que já não esteja no terreo)."
   ]
  },
  {
   "cell_type": "code",
   "execution_count": 3,
   "metadata": {},
   "outputs": [
    {
     "name": "stdout",
     "output_type": "stream",
     "text": [
      "Numero de pessoas: 1\n",
      "Andar atual: 1\n"
     ]
    }
   ],
   "source": [
    "class Elevador:\n",
    "    def __init__(self, andar_atual, pessoas_presentes):\n",
    "        self.andar_atual = andar_atual\n",
    "        self.pessoas_presentes = pessoas_presentes\n",
    "        self.capacidade = 0\n",
    "        self.andar_maximo = 0\n",
    "\n",
    "\n",
    "    def inicializa(self, andar_maximo, capacidade):\n",
    "        self.capacidade = capacidade\n",
    "        self.andar_maximo = andar_maximo\n",
    "        self.andar_atual = 0\n",
    "        self.pessoas_presentes = 0\n",
    "\n",
    "    def entra_uma_pessoa(self):\n",
    "        if self.pessoas_presentes < self.capacidade:\n",
    "            self.pessoas_presentes += 1\n",
    "        else:\n",
    "            return 'Não é possível entrar mais ninguém.'\n",
    "\n",
    "    def sai_uma_pessoa(self):\n",
    "        if self.pessoas_presentes >= 1:\n",
    "            self.pessoas_presentes -= 1\n",
    "        else:\n",
    "            return 'Não há ninguém no elevador.'\n",
    "\n",
    "    def subir_um_andar(self):\n",
    "        if self.andar_atual < self.andar_maximo:\n",
    "            self.andar_atual += 1\n",
    "        else:\n",
    "            return 'Não se pode subir mais nenhum andar, estamos no topo.'\n",
    "\n",
    "    def descer_um_andar(self):\n",
    "        if self.andar_atual < 1:\n",
    "            self.andar_atual -= 1\n",
    "        else:\n",
    "            return 'Não se pode descer mais nenhum andar, estamos no terreo.'\n",
    "\n",
    "elevador1 = Elevador(5,9)\n",
    "elevador1.inicializa(6,8)\n",
    "\n",
    "elevador1.subir_um_andar()\n",
    "elevador1.entra_uma_pessoa()\n",
    "\n",
    "\n",
    "print(f'Numero de pessoas: {elevador1.pessoas_presentes}')\n",
    "print(f'Andar atual: {elevador1.andar_atual}')"
   ]
  },
  {
   "cell_type": "markdown",
   "metadata": {},
   "source": [
    "**Exercicio 2** - Faça uma classe (super-classe) chamada 'Funcionario', que receba nome, sobrenome e salario, e que tenha um metodo de mostrar o nome completo. Faça duas classes herdadas:  \n",
    "'Desenvolvedor', recebendo linguagem de programação, e 'Gerente', que recebe uma equipe.  \n",
    "Para a sub-classe 'Gerente', deve permitir que se adicione ou se remova alguém da equipe dele."
   ]
  },
  {
   "cell_type": "code",
   "execution_count": 1,
   "metadata": {},
   "outputs": [
    {
     "name": "stdout",
     "output_type": "stream",
     "text": [
      "-->  Danusa Villano\n",
      "-->  Ricardo Pellegrini\n"
     ]
    }
   ],
   "source": [
    "class Funcionario:\n",
    "\n",
    "    aumento = 1.04\n",
    "\n",
    "    def __init__(self, nome, sobrenome, salario):\n",
    "        self.__nome = nome\n",
    "        self.__sobrenome = sobrenome\n",
    "        self.__salario = salario\n",
    "\n",
    "    def nome_inteiro(self):\n",
    "        return f'{self.__nome} {self.__sobrenome}'\n",
    "\n",
    "    def aplicar_aumento(self):\n",
    "        self.__salario = self.__salario * self.aumento\n",
    "\n",
    "\n",
    "class Desenvolvedor(Funcionario):\n",
    "\n",
    "    aumento = 1.05\n",
    "\n",
    "    def __init__(self, nome, sobrenome, salario, ling_progr):\n",
    "        super().__init__(nome, sobrenome, salario)\n",
    "        self.ling_progr = ling_progr\n",
    "\n",
    "\n",
    "class Gerente(Funcionario):\n",
    "\n",
    "    def __init__(self, nome, sobrenome, salario, funcionarios=None):\n",
    "        super().__init__(nome, sobrenome, salario)\n",
    "        if funcionarios is None:\n",
    "            self.funcionarios = []\n",
    "        else:\n",
    "            self.funcionarios = funcionarios\n",
    "\n",
    "    def add_funcionario(self, func):\n",
    "        if func not in self.funcionarios:\n",
    "            self.funcionarios.append(func)\n",
    "\n",
    "    def remove_funcionario(self, func):\n",
    "        if func in self.funcionarios:\n",
    "            self.funcionarios.remove(func)\n",
    "\n",
    "    def mostrar_funcionarios(self):\n",
    "        for func in self.funcionarios:\n",
    "            print('--> ', func.nome_inteiro())\n",
    "\n",
    "desenv_1 = Desenvolvedor('Ricardo','Pellegrini',8000,'Python')\n",
    "desenv_2 = Desenvolvedor('Danusa','Villano', 8000, 'Java')\n",
    "gerente_1 = Gerente('Wayne','Rooney',15000,[desenv_2])\n",
    "\n",
    "gerente_1.mostrar_funcionarios()\n",
    "gerente_1.add_funcionario(desenv_1)\n",
    "gerente_1.remove_funcionario(desenv_2)\n",
    "gerente_1.mostrar_funcionarios()"
   ]
  },
  {
   "cell_type": "markdown",
   "metadata": {},
   "source": [
    "**Exercicio 3** - Crie uma classe Agenda que pode armazenar 10 pessoas, e que possa realizar as seguintes operações:  \n",
    "    1. Armazenar pessoa\n",
    "    2. Remover pessoa\n",
    "    3. Buscar pessoa pelo nome\n",
    "    4. Imprimir agenda"
   ]
  },
  {
   "cell_type": "code",
   "execution_count": 3,
   "metadata": {},
   "outputs": [
    {
     "name": "stdout",
     "output_type": "stream",
     "text": [
      "\n",
      "Mostrando agenda\n",
      "Nome: Ricardo - Idade: 28 - Altura: 1.75\n",
      "Nome: Danusa - Idade: 35 - Altura: 1.66\n",
      "Nome: Dinei - Idade: 48 - Altura: 1.72\n",
      "\n",
      "\n",
      "Resultado da busca: \n",
      "Nome: Ricardo - Idade: 28 - Altura: 1.75\n",
      "\n",
      "Removendo uma pessoa da lista.\n",
      "Dinei removido (a) da lista.\n",
      "\n",
      "Mostrando agenda atualizada\n",
      "Nome: Ricardo - Idade: 28 - Altura: 1.75\n",
      "Nome: Danusa - Idade: 35 - Altura: 1.66\n"
     ]
    }
   ],
   "source": [
    "class Agenda:\n",
    "    \n",
    "    # Lista que vai conter os nomes das pessoas na agenda\n",
    "    pessoas = []\n",
    "\n",
    "    # Função para adicionar contatos na lista\n",
    "    @classmethod\n",
    "    def adicionar(cls):\n",
    "        nome = input('Nome: ')\n",
    "        idade = int(input('Idade: '))\n",
    "        altura = float(input('Altura: '))\n",
    "        return cls(nome, idade, altura)\n",
    "\n",
    "    # Mostrando dados dos contatos presentes na agenda\n",
    "    @staticmethod\n",
    "    def mostrar_agenda():\n",
    "        for pessoa in Agenda.pessoas:\n",
    "            print(f'Nome: {pessoa.nome} - Idade: {pessoa.idade} - Altura: {pessoa.altura}')\n",
    "\n",
    "    # Buscando a pessoa pelo nome na agenda\n",
    "    @staticmethod\n",
    "    def buscar_pessoa(nome):\n",
    "        for pessoa in Agenda.pessoas:\n",
    "            if pessoa.nome == nome:\n",
    "                print('Resultado da busca: ')\n",
    "                print(f'Nome: {pessoa.nome} - Idade: {pessoa.idade} - Altura: {pessoa.altura}')\n",
    "\n",
    "    # Construtor, limitando adicao de pessoas à lista até 10 pessoas\n",
    "    def __init__(self, nome, idade, altura):\n",
    "        self.nome = nome\n",
    "        self.idade = idade\n",
    "        self.altura = altura\n",
    "        if self not in Agenda.pessoas and len(Agenda.pessoas) < 10:\n",
    "            self.pessoas.append(self)\n",
    "        else:\n",
    "            pass\n",
    "\n",
    "    # Removendo pessoas através de seu código\n",
    "    def remover_pessoa(self):\n",
    "        if self in Agenda.pessoas:\n",
    "            Agenda.pessoas.remove(self)\n",
    "            print(f'{self.nome} removido (a) da lista.')\n",
    "        else:\n",
    "            print('Esse contato não constava na lista.')\n",
    "\n",
    "### Testes\n",
    "# Inserindo dados para ver agenda\n",
    "pessoa1 = Agenda('Ricardo',28,1.75)\n",
    "pessoa2 = Agenda('Danusa',35,1.66)\n",
    "pessoa3 = Agenda('Dinei',48,1.72)\n",
    "\n",
    "print('\\nMostrando agenda')\n",
    "Agenda.mostrar_agenda()\n",
    "print('\\n')\n",
    "Agenda.buscar_pessoa('Ricardo')\n",
    "\n",
    "# Removendo uma pessoa da lista\n",
    "print('\\nRemovendo uma pessoa da lista.')\n",
    "pessoa3.remover_pessoa()\n",
    "\n",
    "print('\\nMostrando agenda atualizada')\n",
    "Agenda.mostrar_agenda()"
   ]
  },
  {
   "cell_type": "markdown",
   "metadata": {},
   "source": [
    "**Exercicio 4** - Escreva um código que represente a classe Pessoa, com atributos nome, endereço e telefone, e o método imprimir. O método imprimir deve mostrar na tela todos os atributos."
   ]
  },
  {
   "cell_type": "code",
   "execution_count": 4,
   "metadata": {},
   "outputs": [
    {
     "name": "stdout",
     "output_type": "stream",
     "text": [
      "Nome: Ricardo, Endereco: Rodovia de Manchester, 1234, Telefone: 11-4141-8080\n",
      "Nome: Danusa, Endereco: Rua Italia, 567, Telefone: 11-4141-9090\n"
     ]
    }
   ],
   "source": [
    "class Pessoa:\n",
    "    def __init__(self, nome, endereco, telefone):\n",
    "        self.__nome = nome\n",
    "        self.__endereco = endereco\n",
    "        self.__telefone = telefone\n",
    "\n",
    "    def imprimir(self):\n",
    "        print(f'Nome: {self.__nome}, Endereco: {self.__endereco}, Telefone: {self.__telefone}')\n",
    "\n",
    "pessoa1 = Pessoa('Ricardo','Rodovia de Manchester, 1234', '11-4141-8080')\n",
    "pessoa2 = Pessoa('Danusa','Rua Italia, 567', '11-4141-9090')\n",
    "pessoa1.imprimir()\n",
    "pessoa2.imprimir()"
   ]
  },
  {
   "cell_type": "markdown",
   "metadata": {},
   "source": [
    "**Exercicio 5** - Escreva um código que apresente a classe Quadrado, com atributos lado, area, perimetro, e os métodos calcular_area, calcular_perimetro e imprimir. Os métodos devem efetuar seus respectivos cálculos e colocar seus valores nos atributos correspondentes. O método 'imprimir' deve mostrar todos os atributos."
   ]
  },
  {
   "cell_type": "code",
   "execution_count": 5,
   "metadata": {},
   "outputs": [
    {
     "name": "stdout",
     "output_type": "stream",
     "text": [
      "O quadrado de lado 5 possui area de 25 u.a e perimetro de 20 u.c\n",
      "O quadrado de lado 8 possui area de 64 u.a e perimetro de 32 u.c\n"
     ]
    }
   ],
   "source": [
    "class Quadrado:\n",
    "\n",
    "    def __init__(self, lado):\n",
    "        self.lado = lado\n",
    "        self.area = Quadrado.calcular_area(self)\n",
    "        self.perimetro = Quadrado.calcular_perimetro(self)\n",
    "\n",
    "\n",
    "    def calcular_area(self):\n",
    "        return self.lado**2\n",
    "\n",
    "\n",
    "    def calcular_perimetro(self):\n",
    "        return self.lado*4\n",
    "\n",
    "\n",
    "    def imprimir(self):\n",
    "        return f'O quadrado de lado {self.lado} possui area de {self.area} u.a e perimetro de {self.perimetro} u.c'\n",
    "\n",
    "\n",
    "quad1 = Quadrado(5)\n",
    "quad1.calcular_area()\n",
    "quad1.calcular_perimetro()\n",
    "quad2 = Quadrado(8)\n",
    "quad2.calcular_area()\n",
    "quad2.calcular_perimetro()\n",
    "print(quad1.imprimir())\n",
    "print(quad2.imprimir())"
   ]
  },
  {
   "cell_type": "markdown",
   "metadata": {},
   "source": [
    "**Exercicio 6** - Escreve uma classe Moto, que receba como atributos a marca, modelo, cor, marcha, qual a maior marcha e se esta ligada ou não, através de um valor booleano. O atributo marcha é um inteiro de 0 (neutro) até o valor da maior marcha. Adicione métodos marcha_acima e marcha_abaixo, para subir ou descer as marchas, avaliando se isso é possível de acordo com a marcha atual. Escreva um método 'imprimir' para visualizar todos os atributos. Adicione os métodos ligar e desligar."
   ]
  },
  {
   "cell_type": "code",
   "execution_count": 6,
   "metadata": {},
   "outputs": [
    {
     "name": "stdout",
     "output_type": "stream",
     "text": [
      "Marca: Yamaha, Modelo: 1000, Cor: Preta, Marcha: 4\n",
      "Marca: Harley, Modelo: 1200, Cor: Prata, Marcha: 0\n",
      "A moto Harley ja está na menor marcha\n",
      "A moto Yamaha já está na maior marcha\n",
      "A moto Yamaha já está na maior marcha\n",
      "Marca: Yamaha, Modelo: 1000, Cor: Preta, Marcha: 5\n",
      "Marca: Harley, Modelo: 1200, Cor: Prata, Marcha: 0\n"
     ]
    }
   ],
   "source": [
    "class Moto:\n",
    "\n",
    "    def __init__(self, marca, modelo, cor, marcha, maior_marcha, ligada = False):\n",
    "        self.marca = marca\n",
    "        self.modelo = modelo\n",
    "        self.cor = cor\n",
    "        self.marcha = marcha\n",
    "        self.maior_marcha = maior_marcha\n",
    "        self.ligada = ligada\n",
    "\n",
    "\n",
    "    def marcha_acima(self):\n",
    "        if self.marcha < self.maior_marcha:\n",
    "            self.marcha += 1\n",
    "        else:\n",
    "            print(f'A moto {self.marca} já está na maior marcha')\n",
    "\n",
    "    def marcha_abaixo(self):\n",
    "        if self.marcha > 0:\n",
    "            self.marcha -= 1\n",
    "        else:\n",
    "            print(f'A moto {self.marca} ja está na menor marcha')\n",
    "            \n",
    "    def ligar(self):\n",
    "        if self.ligada == False:\n",
    "            self.ligada = True\n",
    "        else:\n",
    "            print(f'A moto {self.marca} já se encontra ligada)\n",
    "                  \n",
    "    def desligar(self):\n",
    "        if self.ligada == True:\n",
    "            self.ligada = False\n",
    "        else:\n",
    "            print(f'A moto {self.marca} já se encontra desligada)\n",
    "\n",
    "    def imprimir(self):\n",
    "        print(f'Marca: {self.marca}, Modelo: {self.modelo}, Cor: {self.cor}, Marcha: {self.marcha}')\n",
    "\n",
    "moto1 = Moto('Yamaha','1000','Preta',4,5,ligada=True)\n",
    "moto2 = Moto('Harley','1200','Prata',0,4,ligada=False)\n",
    "moto1.imprimir()\n",
    "moto2.imprimir()\n",
    "moto2.marcha_abaixo()\n",
    "moto1.marcha_acima()\n",
    "moto1.marcha_acima()\n",
    "moto1.marcha_acima()\n",
    "moto1.imprimir()\n",
    "moto2.imprimir()"
   ]
  },
  {
   "cell_type": "markdown",
   "metadata": {},
   "source": [
    "**Exercicio 7** -  \n",
    "1. Crie uma classe Equipamento com dois atributos privados.  \n",
    "2. Crie uma classe Computador com dois atributos privados, e que herde tudo de Equipamento.\n",
    "3. Crie métodos de acesso e de modificação para todos os atributos em ambas as classes.\n",
    "4. Crie dois objetos na classe Equipamento e dois na classe Computador.\n",
    "5. Crie o método exibe() na classe Equipamentos para mostrar todos os seus atributos.\n",
    "6. Crie o método exibe() na classe Computador, herdando e reescrevendo o método exibe() da classe Equipamento."
   ]
  },
  {
   "cell_type": "code",
   "execution_count": 8,
   "metadata": {},
   "outputs": [
    {
     "name": "stdout",
     "output_type": "stream",
     "text": [
      "Nome: Mouse, Valor: 150.0\n",
      "Nome: Apple, Valor: 5000.0, RAM: 4 GB, HD: 2 GB\n"
     ]
    }
   ],
   "source": [
    "class Equipamento:\n",
    "\n",
    "    def __init__(self, nome, valor):\n",
    "        self.__nome = nome\n",
    "        self.__valor = valor\n",
    "\n",
    "    @property  # Getter\n",
    "    def nome(self):\n",
    "        return self.__nome\n",
    "\n",
    "    @nome.setter  # Setter\n",
    "    def nome(self, novo_nome):\n",
    "        self.__nome = novo_nome\n",
    "\n",
    "    @property  # Getter\n",
    "    def valor(self):\n",
    "        return self.__valor\n",
    "\n",
    "    @valor.setter  # Setter\n",
    "    def valor(self, novo_valor):\n",
    "        self.__valor = novo_valor\n",
    "\n",
    "    def exibe(self):\n",
    "        print(f'Nome: {self.__nome}, Valor: {self.__valor}')\n",
    "\n",
    "class Computador(Equipamento):\n",
    "\n",
    "    def __init__(self, nome, valor, memoria_ram, hd):\n",
    "        super().__init__(nome, valor)\n",
    "        self.__memoria_ram = memoria_ram\n",
    "        self.__hd = hd\n",
    "\n",
    "    @property  # Getter\n",
    "    def memoria_ram(self):\n",
    "        return self.__memoria_ram\n",
    "\n",
    "    @memoria_ram.setter  # Setter\n",
    "    def memoria_ram(self, nova_mem_ram):\n",
    "        self.__memoria_ram = nova_mem_ram\n",
    "\n",
    "    @property  # Getter\n",
    "    def hd(self):\n",
    "        return self.__hd\n",
    "\n",
    "    @hd.setter  # Setter\n",
    "    def hd(self, nova_hd):\n",
    "        self.__hd = nova_hd\n",
    "\n",
    "    def exibe(self):\n",
    "        print(f'Nome: {self._Equipamento__nome}, Valor: {self._Equipamento__valor}, RAM: {self.__memoria_ram}, HD: {self.__hd}')\n",
    "\n",
    "\n",
    "equip1 = Equipamento('Mouse', 150.00)\n",
    "equip2 = Equipamento('Teclado', 250.00)\n",
    "comp1 = Computador('Dell', 2500.00, '2 GB', '500 GB')\n",
    "comp2 = Computador('Apple', 5000.00, '4 GB', '2 GB')\n",
    "\n",
    "equip1.exibe()\n",
    "comp2.exibe()"
   ]
  },
  {
   "cell_type": "code",
   "execution_count": null,
   "metadata": {},
   "outputs": [],
   "source": []
  }
 ],
 "metadata": {
  "kernelspec": {
   "display_name": "Python 3",
   "language": "python",
   "name": "python3"
  },
  "language_info": {
   "codemirror_mode": {
    "name": "ipython",
    "version": 3
   },
   "file_extension": ".py",
   "mimetype": "text/x-python",
   "name": "python",
   "nbconvert_exporter": "python",
   "pygments_lexer": "ipython3",
   "version": "3.6.5"
  }
 },
 "nbformat": 4,
 "nbformat_minor": 2
}
