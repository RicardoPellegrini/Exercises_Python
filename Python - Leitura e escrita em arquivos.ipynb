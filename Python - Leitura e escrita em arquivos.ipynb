{
 "cells": [
  {
   "cell_type": "markdown",
   "metadata": {},
   "source": [
    "# Leitura e escrita em arquivos"
   ]
  },
  {
   "cell_type": "markdown",
   "metadata": {},
   "source": [
    "**Exercicio 1** -  \n",
    "a) Crie um arquivo que crie um arquivo texto de nome 'arq.txt'."
   ]
  },
  {
   "cell_type": "code",
   "execution_count": 1,
   "metadata": {},
   "outputs": [],
   "source": [
    "arquivo = open('arq.txt','w').close()"
   ]
  },
  {
   "cell_type": "markdown",
   "metadata": {},
   "source": [
    "b) Permita que o usuário escreva diversos caracteres nesse arquivo, até que o usuário entre com o caracter '0'."
   ]
  },
  {
   "cell_type": "code",
   "execution_count": 2,
   "metadata": {},
   "outputs": [
    {
     "name": "stdout",
     "output_type": "stream",
     "text": [
      "Digite um caracter: te\n",
      "Digite um caracter: t\n",
      "Digite um caracter: y\n",
      "Digite um caracter: oi\n",
      "Digite um caracter: fg\n",
      "Digite um caracter: hq\n",
      "Digite um caracter: 0\n"
     ]
    }
   ],
   "source": [
    "with open('arq.txt','w') as arquivo:\n",
    "    while True:\n",
    "        x = input('Digite um caracter: ').strip().upper()[0]\n",
    "        if x != '0':\n",
    "            arquivo.write(x)\n",
    "        else:\n",
    "            break"
   ]
  },
  {
   "cell_type": "markdown",
   "metadata": {},
   "source": [
    "c) Abra o arquivo e leia cada um dos caracteres."
   ]
  },
  {
   "cell_type": "code",
   "execution_count": 3,
   "metadata": {},
   "outputs": [
    {
     "name": "stdout",
     "output_type": "stream",
     "text": [
      "T\n",
      "T\n",
      "Y\n",
      "O\n",
      "F\n",
      "H\n"
     ]
    }
   ],
   "source": [
    "with open('arq.txt','r') as arquivo:\n",
    "    for caracter in arquivo.readline():\n",
    "        print(caracter)"
   ]
  },
  {
   "cell_type": "markdown",
   "metadata": {},
   "source": [
    "**Exercicio 2** - Faça um programa que receba do usuário um arquivo texto e retorne ao usuario quantas linhas ele tem."
   ]
  },
  {
   "cell_type": "code",
   "execution_count": 5,
   "metadata": {},
   "outputs": [
    {
     "name": "stdout",
     "output_type": "stream",
     "text": [
      "Insira o caminho para o arquivo a ser lido: arq.txt\n",
      "['TTYOFH\\n', 'sdf\\n', 'erw\\n', 'dsfa\\n', 'te\\n', 'sd\\n', '3']\n",
      "O arquivo possui 7 linhas.\n"
     ]
    }
   ],
   "source": [
    "arquivo = input('Insira o caminho para o arquivo a ser lido: ')\n",
    "with open(arquivo,'r') as arq:\n",
    "    linhas = arq.readlines()\n",
    "    print(linhas)\n",
    "    print(f'O arquivo possui {len(linhas)} linhas.')\n",
    "\n",
    "# Foram acrescentadas mais linhas ao arquivo arq.txt para que pudessemos fazer a contagem de linhas diferente de 1."
   ]
  },
  {
   "cell_type": "markdown",
   "metadata": {},
   "source": [
    "**Exercicio 3** - Faça um programa que receba do usuário um arquivo texto e retorne ao usuario quantas linhas ele tem."
   ]
  },
  {
   "cell_type": "code",
   "execution_count": 6,
   "metadata": {},
   "outputs": [
    {
     "name": "stdout",
     "output_type": "stream",
     "text": [
      "Insira o caminho para o arquivo texto a ser lido: arq2.txt\n",
      "Insira um caracter a ser contado: r\n",
      "O RATO ROEU A ROUPA DO REI DE ROMA.\n",
      "O caracter R apareceu 5 vezes no texto\n"
     ]
    }
   ],
   "source": [
    "arquivo = input('Insira o caminho para o arquivo texto a ser lido: ')\n",
    "caracter = input('Insira um caracter a ser contado: ').upper().strip()[0]\n",
    "with open(arquivo,'r') as arq:\n",
    "    texto = arq.read().upper()\n",
    "    print(texto)\n",
    "    print(f'O caracter {caracter} apareceu {texto.count(caracter)} vezes no texto')"
   ]
  },
  {
   "cell_type": "markdown",
   "metadata": {},
   "source": [
    "**Exercicio 4** - Faça um programa que recebe como entrada um nome de um arquivo a ser lido e um nome de arquivo de saída. No arquivo de saída, deverá ser escrito o texto totalmente ao contrário, de forma inversa.  \n",
    "Exemplo:  \n",
    "\n",
    "    Entrada:  \n",
    "    'Hoje eh dia de prova de AP'  \n",
    "    'Vou tirar uma boa nota.'  \n",
    "    \n",
    "Saida:  \n",
    "\n",
    "    '.aton aob amu rarit uoV'  \n",
    "    '.PA ed avorp ed aid he ejoH'"
   ]
  },
  {
   "cell_type": "code",
   "execution_count": 11,
   "metadata": {},
   "outputs": [
    {
     "name": "stdout",
     "output_type": "stream",
     "text": [
      "Insira o nome do arquivo texto a ser lido: arq3.txt\n",
      "Insira o nome do arquivo de saida: novo.txt\n",
      "\n",
      "\n",
      "Arquivo de entrada\n",
      "Hoje eh dia de prova de AP.\n",
      "Vou tirar uma boa nota.\n",
      "\n",
      "\n",
      "Arquivo de saída\n",
      ".aton aob amu rarit uoV\n",
      ".PA ed avorp ed aid he ejoH\n"
     ]
    }
   ],
   "source": [
    "arquivo_de_entrada = input('Insira o nome do arquivo texto a ser lido: ')\n",
    "arquivo_de_saida = input('Insira o nome do arquivo de saida: ')\n",
    "print('\\n')\n",
    "\n",
    "with open(arquivo_de_saida,'w') as saida:\n",
    "    with open(arquivo_de_entrada,'r') as entrada:\n",
    "        print('Arquivo de entrada')\n",
    "        texto_entrada = entrada.read()\n",
    "        print(texto_entrada)\n",
    "        print('\\n')\n",
    "        saida.write(texto_entrada[::-1])\n",
    "\n",
    "with open(arquivo_de_saida,'r') as saida:\n",
    "    print('Arquivo de saída')\n",
    "    print(saida.read())"
   ]
  },
  {
   "cell_type": "markdown",
   "metadata": {},
   "source": [
    "**Exercicio 5** - Faça um programa que receba um arquivo texto do usuário. Retorne um arquivo de saída com o texto, sendo que suas vogais devam ser substituídas por '*'."
   ]
  },
  {
   "cell_type": "code",
   "execution_count": 14,
   "metadata": {},
   "outputs": [
    {
     "name": "stdout",
     "output_type": "stream",
     "text": [
      "Insira o nome do arquivo texto de entrada: arq3.txt\n",
      "\n",
      "Lista de entrada\n",
      "Hoje eh dia de prova de AP.\n",
      "Vou tirar uma boa nota.\n",
      "\n",
      "Lista de saida\n",
      "H*j* *h d** d* pr*v* d* *P.\n",
      "V** t*r*r *m* b** n*t*.\n"
     ]
    }
   ],
   "source": [
    "entrada = input('Insira o nome do arquivo texto de entrada: ')\n",
    "\n",
    "with open('novo2.txt','w') as novo:\n",
    "    with open(entrada,'r') as entrada:\n",
    "        list_entrada = entrada.read()\n",
    "        print('\\nLista de entrada')\n",
    "        print(list_entrada)\n",
    "        for letra in list_entrada:\n",
    "            if letra in ['a', 'e', 'i', 'o', 'u', 'A', 'E', 'I', 'O', 'U']:\n",
    "                novo.write('*')\n",
    "            else:\n",
    "                novo.write(letra)\n",
    "\n",
    "with open('novo2.txt') as novo:\n",
    "    print('\\nLista de saida')\n",
    "    print(novo.read())"
   ]
  },
  {
   "cell_type": "markdown",
   "metadata": {},
   "source": [
    "**Exercicio 6** - Faça um programa que receba um arquivo texto com nome de uma cidade e sua população em cada linha, e que escreva num novo arquivo o nome da cidade com maior população."
   ]
  },
  {
   "cell_type": "code",
   "execution_count": 22,
   "metadata": {},
   "outputs": [
    {
     "name": "stdout",
     "output_type": "stream",
     "text": [
      "['Cidade A: 20000\\n', 'Cidade B: 40000\\n', 'Cidade C: 35000\\n', 'Cidade D: 30000']\n",
      "\n",
      "\n",
      "A maior populacao é da Cidade B, com 40000 habitantes\n"
     ]
    }
   ],
   "source": [
    "with open('novo3.txt','w') as novo:\n",
    "    with open('arq4.txt','r') as arq:\n",
    "        lista_de_entrada = arq.readlines()\n",
    "        print(lista_de_entrada)\n",
    "        lista2 = [[par[0], int(par[1])] for par in [linha.split(': ') for linha in lista_de_entrada]]\n",
    "        maior_populacao = 0\n",
    "        maior_cidade = ''\n",
    "        for cidade in lista2:\n",
    "            if cidade[1] > maior_populacao:\n",
    "                maior_populacao = cidade[1]\n",
    "                maior_cidade = cidade[0]\n",
    "        novo.write(f'A maior populacao é da {maior_cidade}, com {maior_populacao} habitantes')\n",
    "\n",
    "with open('novo3.txt','r') as novo:\n",
    "    print('\\n')\n",
    "    print(novo.read())"
   ]
  },
  {
   "cell_type": "code",
   "execution_count": null,
   "metadata": {},
   "outputs": [],
   "source": []
  }
 ],
 "metadata": {
  "kernelspec": {
   "display_name": "Python 3",
   "language": "python",
   "name": "python3"
  },
  "language_info": {
   "codemirror_mode": {
    "name": "ipython",
    "version": 3
   },
   "file_extension": ".py",
   "mimetype": "text/x-python",
   "name": "python",
   "nbconvert_exporter": "python",
   "pygments_lexer": "ipython3",
   "version": "3.6.5"
  }
 },
 "nbformat": 4,
 "nbformat_minor": 2
}
