{
 "cells": [
  {
   "cell_type": "markdown",
   "metadata": {},
   "source": [
    "# Estruturas de repetição"
   ]
  },
  {
   "cell_type": "markdown",
   "metadata": {},
   "source": [
    "**Questão 1** - Faça um programa que determine e mostre os cinco primeiros múltiplos de 3, considerando números maiores que zero."
   ]
  },
  {
   "cell_type": "code",
   "execution_count": 2,
   "metadata": {},
   "outputs": [
    {
     "data": {
      "text/plain": [
       "[3, 6, 9, 12, 15]"
      ]
     },
     "execution_count": 2,
     "metadata": {},
     "output_type": "execute_result"
    }
   ],
   "source": [
    "mult3 = []\n",
    "total = 0\n",
    "num = 1\n",
    "while total < 5:\n",
    "    if num % 3 == 0:\n",
    "        mult3.append(num)\n",
    "        total += 1\n",
    "    num += 1\n",
    "mult3"
   ]
  },
  {
   "cell_type": "markdown",
   "metadata": {},
   "source": [
    "**Questão 2** - Faça um algoritmo que mostre uma contagem regressiva, e que no fim mostre 'FIM!'"
   ]
  },
  {
   "cell_type": "code",
   "execution_count": 3,
   "metadata": {},
   "outputs": [
    {
     "name": "stdout",
     "output_type": "stream",
     "text": [
      "10\n",
      "9\n",
      "8\n",
      "7\n",
      "6\n",
      "5\n",
      "4\n",
      "3\n",
      "2\n",
      "1\n",
      "0\n",
      "FIM!\n"
     ]
    }
   ],
   "source": [
    "for i in range(10,-1,-1):\n",
    "    print(i)\n",
    "print('FIM!')"
   ]
  },
  {
   "cell_type": "markdown",
   "metadata": {},
   "source": [
    "**Questão 3** - Faça um programa que peça 10 valores inteiros e calcule sua média."
   ]
  },
  {
   "cell_type": "code",
   "execution_count": 7,
   "metadata": {},
   "outputs": [
    {
     "name": "stdout",
     "output_type": "stream",
     "text": [
      "Insira um número: 5\n",
      "Insira um número: 8\n",
      "Insira um número: 4\n",
      "Insira um número: 6\n",
      "Insira um número: 8\n",
      "Insira um número: 8\n",
      "Insira um número: 4\n",
      "Insira um número: 7\n",
      "Insira um número: 9\n",
      "Insira um número: 4\n",
      "[5, 8, 4, 6, 8, 8, 4, 7, 9, 4]\n",
      "6.3\n"
     ]
    }
   ],
   "source": [
    "import numpy as np\n",
    "\n",
    "num = []\n",
    "while len(num)<10:\n",
    "    a = int(input('Insira um número: '))\n",
    "    num.append(a)\n",
    "print(num) \n",
    "print(np.mean(num))"
   ]
  },
  {
   "cell_type": "markdown",
   "metadata": {},
   "source": [
    "**Questão 4** - Faça um programa que receba um número inteiro positivo ímpar N, e imprima todos os números ímpares positivos de 1 até N em ordem decrescente."
   ]
  },
  {
   "cell_type": "code",
   "execution_count": null,
   "metadata": {},
   "outputs": [],
   "source": [
    "n = int(input('Favor digitar um número ímpar positivo: '))\n",
    "while True:\n",
    "    if (n % 2 == 0 or n <= 0):\n",
    "        n = int(input('Favor digitar um número que seja ímpar e positivo: '))\n",
    "    else:\n",
    "        break\n",
    "\n",
    "for num in range(n,0,-2):\n",
    "    print(num, end=' ')"
   ]
  },
  {
   "cell_type": "markdown",
   "metadata": {},
   "source": [
    "**Questão 5** - Faça um programa que calcule a soma de todos os números primos abaixo de 100."
   ]
  },
  {
   "cell_type": "code",
   "execution_count": 4,
   "metadata": {},
   "outputs": [
    {
     "data": {
      "text/plain": [
       "1061"
      ]
     },
     "execution_count": 4,
     "metadata": {},
     "output_type": "execute_result"
    }
   ],
   "source": [
    "primos = []\n",
    "for x in range(1,101):\n",
    "    s = 0\n",
    "    for n in range(1,x+1):\n",
    "        if x % n == 0:\n",
    "            s += 1            \n",
    "    if s <= 2:\n",
    "        primos.append(x)\n",
    "primos\n",
    "sum(primos)"
   ]
  },
  {
   "cell_type": "markdown",
   "metadata": {},
   "source": [
    "**Questão 6** - Escreva um programa que receba o valor de um saque e retorne o menor de notas possíveis.  \n",
    "Notas de 100, 50, 20, 10, 5, 2 e 1."
   ]
  },
  {
   "cell_type": "code",
   "execution_count": 27,
   "metadata": {},
   "outputs": [
    {
     "name": "stdout",
     "output_type": "stream",
     "text": [
      "Insira o valor a ser sacado: 1895\n",
      "notas de R$ 100:  18\n",
      "notas de R$ 50:  1\n",
      "notas de R$ 20:  2\n",
      "notas de R$ 10:  0\n",
      "notas de R$ 5:  1\n",
      "notas de R$ 2:  0\n",
      "notas de R$ 1:  0\n"
     ]
    }
   ],
   "source": [
    "# notas de 100:\n",
    "x = int(input('Insira o valor a ser sacado: '))\n",
    "while True:\n",
    "    if x < 1:\n",
    "        x = int(input('Insira o valor positivo a ser sacado: '))\n",
    "    else:\n",
    "        break\n",
    "n100 = x // 100\n",
    "n50 = (x - n100*100)//50\n",
    "n20 = (x - n100*100 - n50*50)//20\n",
    "n10 = (x - n100*100 - n50*50 - n20*20)//10\n",
    "n5 = (x - n100*100 - n50*50 - n20*20 - n10*10)//5\n",
    "n2 = (x - n100*100 - n50*50 - n20*20 - n10*10 - n5*5)//5\n",
    "n1 = (x - n100*100 - n50*50 - n20*20 - n10*10 - n5*5 - n2*1)\n",
    "\n",
    "print('notas de R$ 100: ',n100)\n",
    "print('notas de R$ 50: ',n50)\n",
    "print('notas de R$ 20: ',n20)\n",
    "print('notas de R$ 10: ',n10)\n",
    "print('notas de R$ 5: ',n5)\n",
    "print('notas de R$ 2: ',n2)\n",
    "print('notas de R$ 1: ',n1)"
   ]
  },
  {
   "cell_type": "markdown",
   "metadata": {},
   "source": [
    "**Questão 7** - Escreva um programa que leia um número inteiro e calcule a soma de todos os seus divisores, com excessão dele próprio."
   ]
  },
  {
   "cell_type": "code",
   "execution_count": 13,
   "metadata": {},
   "outputs": [
    {
     "name": "stdout",
     "output_type": "stream",
     "text": [
      "Digite um número inteiro: 66\n",
      "1 + 2 + 3 + 6 + 11 + 22 + 33 = 78\n"
     ]
    }
   ],
   "source": [
    "x = int(input('Digite um número inteiro: '))\n",
    "div = []\n",
    "for i in range(1,x):\n",
    "    if x % i == 0:\n",
    "        div.append(i)\n",
    "for a in range(0,len(div)-1):\n",
    "    print(div[a], end = ' + ')\n",
    "for b in range(len(div)-1,len(div)):\n",
    "    print(div[b], end = ' = ')\n",
    "    print(sum(div))"
   ]
  },
  {
   "cell_type": "markdown",
   "metadata": {},
   "source": [
    "**Questão 8** - Em matemática, o número harmônico designado por H(n) define-se como sendo a soma da série harmônica:  \n",
    "    H(n) = 1 + 1/2 + 1/3 + 1/4 + ... + 1/n.  \n",
    "    Faça um programa que leia um valor n inteiro positivo e apresente o valor de H(n)."
   ]
  },
  {
   "cell_type": "code",
   "execution_count": 25,
   "metadata": {},
   "outputs": [
    {
     "name": "stdout",
     "output_type": "stream",
     "text": [
      "Insira o valor de n: -5\n",
      "Insira um valor positivo de n: -8\n",
      "Insira um valor positivo de n: -7\n",
      "Insira um valor positivo de n: -5\n",
      "Insira um valor positivo de n: 5\n",
      "H(5) = 2.2833\n"
     ]
    }
   ],
   "source": [
    "n = int(input('Insira o valor de n: '))\n",
    "while True:\n",
    "    if n < 1:\n",
    "        n = int(input('Insira um valor positivo de n: '))\n",
    "    else: \n",
    "        break\n",
    "h = []\n",
    "for i in range(1,n+1):\n",
    "    h.append(1/i)\n",
    "print('H({}) = {}'.format(n,round(sum(h),4))) "
   ]
  },
  {
   "cell_type": "markdown",
   "metadata": {},
   "source": [
    "**Questão 9** - Faça um programa que leia um valor inteiro e positivo, calcule e mostre o valor de E, conforme fórmula abaixo:  \n",
    "    E(n) = 1 + 1/1! + 1/2! + 1/3! + 1/4! + ... + 1/n!"
   ]
  },
  {
   "cell_type": "code",
   "execution_count": 38,
   "metadata": {},
   "outputs": [
    {
     "name": "stdout",
     "output_type": "stream",
     "text": [
      "insira um valor positivo inteiro: 5\n",
      "E(5) = 2.7167\n"
     ]
    }
   ],
   "source": [
    "x = int(input('insira um valor positivo inteiro: '))\n",
    "while True:\n",
    "    if x < 1:\n",
    "        x = int(input('Insira um valor positivo inteiro e maior do que zero: '))\n",
    "    else:\n",
    "        break\n",
    "e = [1]\n",
    "for i in range(1,x+1):\n",
    "    # Encontrar o valor do fatorial de cada 'i'\n",
    "    f = i\n",
    "    for j in range(1,i):\n",
    "        f = f*(i-j)\n",
    "    e.append(1/f)\n",
    "print('E({}) = {}'.format(x,round(sum(e),4)))"
   ]
  },
  {
   "cell_type": "markdown",
   "metadata": {},
   "source": [
    "**Questão 10** - Elabore um programa que faça leitura de vários números inteiros, até que se digite um negativo. O programa tem que retornar o maior e o menor número digitado."
   ]
  },
  {
   "cell_type": "code",
   "execution_count": 42,
   "metadata": {},
   "outputs": [
    {
     "name": "stdout",
     "output_type": "stream",
     "text": [
      "Digite um número: 5\n",
      "Digite um número: 9\n",
      "Digite um número: 8\n",
      "Digite um número: 7\n",
      "Digite um número: 8\n",
      "Digite um número: 9\n",
      "Digite um número: 7\n",
      "Digite um número: -2\n",
      "[5, 9, 8, 7, 8, 9, 7]\n",
      "5\n",
      "9\n"
     ]
    }
   ],
   "source": [
    "maior = menor = 0\n",
    "digitados = []\n",
    "i = 1\n",
    "while True:\n",
    "    x = int(input('Digite um número: '))\n",
    "    if x >= 0:\n",
    "        if i == 1:\n",
    "            maior = x\n",
    "            menor = x\n",
    "            i += 1\n",
    "        else:\n",
    "            if x < menor:\n",
    "                menor = x\n",
    "            if x > maior:\n",
    "                maior = x\n",
    "        digitados.append(x)\n",
    "    if x < 0:\n",
    "        break\n",
    "print(digitados)\n",
    "print(menor)\n",
    "print(maior)"
   ]
  },
  {
   "cell_type": "markdown",
   "metadata": {},
   "source": [
    "**Questão 11** - Faça um programa que gere um valor aleatório de 1 até 1000. O usuário deve tentar acertar qual número foi gerado, a cada tentativa, o programa deverá informar se o chute é maior ou menor que o chute gerado. O programa acaba quando o usuário acerta o número gerado. O programa deve informar em quantas tentativas o número foi descoberto."
   ]
  },
  {
   "cell_type": "code",
   "execution_count": 43,
   "metadata": {},
   "outputs": [
    {
     "name": "stdout",
     "output_type": "stream",
     "text": [
      "Favor, digite um numero entre 1 e 1000: 847\n",
      "Chute mais baixo...\n",
      "Favor, digite um numero: 500\n",
      "Chute mais alto...\n",
      "Favor, digite um numero: 700\n",
      "Chute mais alto...\n",
      "Favor, digite um numero: 780\n",
      "Chute mais baixo...\n",
      "Favor, digite um numero: 750\n",
      "Chute mais baixo...\n",
      "Favor, digite um numero: 730\n",
      "Chute mais baixo...\n",
      "Favor, digite um numero: 710\n",
      "Chute mais alto...\n",
      "Favor, digite um numero: 720\n",
      "Chute mais alto...\n",
      "Favor, digite um numero: 725\n",
      "Chute mais alto...\n",
      "Favor, digite um numero: 728\n",
      "Chute mais baixo...\n",
      "Favor, digite um numero: 727\n",
      "Parabéns, você acertou em 11 tentativas!\n"
     ]
    }
   ],
   "source": [
    "import random\n",
    "\n",
    "computador = random.randint(1, 1000)\n",
    "while True:\n",
    "    usuario = int(input('Favor, digite um numero entre 1 e 1000: '))\n",
    "    if usuario not in range(1,1001):\n",
    "        usuario = int(input('Favor, digite um numero entre 1 e 1000: '))\n",
    "    else:\n",
    "        break\n",
    "tentativas = 1\n",
    "while usuario != computador:\n",
    "    if usuario > computador:\n",
    "        print('Chute mais baixo...')\n",
    "        usuario = int(input('Favor, digite um numero: '))\n",
    "        tentativas += 1\n",
    "    elif usuario < computador:\n",
    "        print('Chute mais alto...')\n",
    "        usuario = int(input('Favor, digite um numero: '))\n",
    "        tentativas += 1\n",
    "print('Parabéns, você acertou em {} tentativas!'.format(tentativas))"
   ]
  },
  {
   "cell_type": "markdown",
   "metadata": {},
   "source": [
    "**Questão 12** - Escreva um programa que leia um número inteiro positivo n, e em seguinda imprima as linhas do chamado triângulo de Floyd."
   ]
  },
  {
   "cell_type": "code",
   "execution_count": 65,
   "metadata": {},
   "outputs": [
    {
     "name": "stdout",
     "output_type": "stream",
     "text": [
      "Insira um número: 6\n",
      "1 \n",
      "\n",
      "2 3 \n",
      "\n",
      "4 5 6 \n",
      "\n",
      "7 8 9 10 \n",
      "\n",
      "11 12 13 14 15 \n",
      "\n",
      "16 17 18 19 20 21 \n",
      "\n"
     ]
    }
   ],
   "source": [
    "while True:\n",
    "    n = int(input('Insira um número: '))\n",
    "    if n < 1:\n",
    "        n = int(input('Insira um número inteiro positivo maior que 0: '))\n",
    "    else:\n",
    "        break\n",
    "x = 1\n",
    "y = 2\n",
    "i = 1\n",
    "for a in range(1,n+1):\n",
    "    for a in range (x,y):\n",
    "        print(a,end = ' ')\n",
    "    print('\\n')\n",
    "    x = x + i\n",
    "    y = y + i + 1\n",
    "    i += 1"
   ]
  },
  {
   "cell_type": "code",
   "execution_count": null,
   "metadata": {},
   "outputs": [],
   "source": []
  }
 ],
 "metadata": {
  "kernelspec": {
   "display_name": "Python 3",
   "language": "python",
   "name": "python3"
  },
  "language_info": {
   "codemirror_mode": {
    "name": "ipython",
    "version": 3
   },
   "file_extension": ".py",
   "mimetype": "text/x-python",
   "name": "python",
   "nbconvert_exporter": "python",
   "pygments_lexer": "ipython3",
   "version": "3.6.5"
  }
 },
 "nbformat": 4,
 "nbformat_minor": 2
}
