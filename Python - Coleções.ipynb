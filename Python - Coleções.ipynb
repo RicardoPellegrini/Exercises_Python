{
 "cells": [
  {
   "cell_type": "markdown",
   "metadata": {},
   "source": [
    "# Python - Coleções"
   ]
  },
  {
   "cell_type": "markdown",
   "metadata": {},
   "source": [
    "**Exercicio 1** - Faça um programa que leia 10 números diferentes a serem armazenados em um vetor. Os dados deverão ser armazenados no vetor na ordem em que foram digitados, sendo que caso o usuário digite um número novamente, o programa deverá pedir para ele digitar outro. Note que cada valor digitado pelo usuário deve ser pesquisado no vetor, verificando se ele já foi digitado anteriormente. Exibir na tela o valor final do vetor que foi digitado."
   ]
  },
  {
   "cell_type": "code",
   "execution_count": null,
   "metadata": {},
   "outputs": [],
   "source": [
    "digitados = []\n",
    "a = 0\n",
    "while a < 10:\n",
    "    x = int(input('Digite um valor: '))\n",
    "    while True:\n",
    "        if x in digitados:\n",
    "            x = int(input('Digite um outro valor: '))\n",
    "        else:\n",
    "            digitados.append(x)\n",
    "            a += 1\n",
    "            break\n",
    "print(a)\n",
    "print(digitados)"
   ]
  },
  {
   "cell_type": "markdown",
   "metadata": {},
   "source": [
    "**Exercicio 2** - Leia dois vetores de inteiros x e y, cada um com 5 elementos (não insira valores repetidos em cada lista). Calcule e mostre os vetores resultantes para:  \n",
    "1. soma entre x e y: soma de cada elemento de x com o de y na mesma posição.\n",
    "2. produto entre x e y: produto de cada elemento de x com o de y na mesma posição.\n",
    "3. diferença entre x e y: todos os elementos de x que não existam em y.\n",
    "4. intersecção entre x e y.\n",
    "5. união entre x e y."
   ]
  },
  {
   "cell_type": "code",
   "execution_count": null,
   "metadata": {},
   "outputs": [],
   "source": [
    "x = [1, 2, 3, 4, 5]\n",
    "y = [6, 7, 2, 9, 3]\n",
    "soma = []\n",
    "produto = []\n",
    "uniao = set(x).union(set(y))\n",
    "diff = set(x).difference(set(y))\n",
    "inters = set(x).intersection(set(y))\n",
    "\n",
    "for i in range(len(x)):\n",
    "    soma.append(x[i]+y[i])\n",
    "    produto.append(x[i]+y[i])\n",
    "\n",
    "print(f'Soma: {soma}')\n",
    "print(f'Produto: {produto}')\n",
    "print(f'Uniao: {uniao}')\n",
    "print(f'Diferença: {diff}')\n",
    "print(f'Intersecção: {inters}')"
   ]
  },
  {
   "cell_type": "markdown",
   "metadata": {},
   "source": [
    "**Exercicio 3** - Faça um programa que leia 5 conjuntos de chave e valor, representando o número e a altura do aluno. Encontre o aluno mais alto e o mais baixo. Mostre o número do aluno mais alto e do mais baixo, junto com as suas alturas."
   ]
  },
  {
   "cell_type": "code",
   "execution_count": null,
   "metadata": {},
   "outputs": [],
   "source": [
    "alturas = dict()\n",
    "n = 0\n",
    "while n < 5:\n",
    "    numero = int(input('Numero do aluno: '))\n",
    "    while True:\n",
    "        if numero not in alturas.keys():\n",
    "            altura = round(float(input('Altura do aluno: ')), ndigits=2)\n",
    "            alturas[numero] = altura\n",
    "            n += 1\n",
    "            break\n",
    "        else:\n",
    "            numero = int(input('Esse numero já existe, insira outro: '))\n",
    "print(alturas)\n",
    "\n",
    "i = 0\n",
    "for k, v in alturas.items():\n",
    "    if i == 0:\n",
    "        alt_maior = v\n",
    "        num_maior = k\n",
    "        alt_menor = v\n",
    "        num_menor = k\n",
    "        i += 1\n",
    "    if i == 1:\n",
    "        if v > alt_maior:\n",
    "            alt_maior = v\n",
    "            num_maior = k\n",
    "        if v < alt_menor:\n",
    "            alt_menor = v\n",
    "            num_menor = k\n",
    "print(f'O menor aluno é o {num_menor}, com altura {alt_menor} m')\n",
    "print(f'O maior aluno é o {num_maior}, com altura {alt_maior} m')"
   ]
  },
  {
   "cell_type": "markdown",
   "metadata": {},
   "source": [
    "**Exercicio 4** - Escreva um programa que leia 10 números inteiros e os coloque em um vetor. Imprima o vetor, o maior elemento e o indice desse maior elemento."
   ]
  },
  {
   "cell_type": "code",
   "execution_count": 1,
   "metadata": {},
   "outputs": [
    {
     "name": "stdout",
     "output_type": "stream",
     "text": [
      "Digite um numero: 4\n",
      "Digite um numero: 8\n",
      "Digite um numero: 9\n",
      "Digite um numero: 7\n",
      "Digite um numero: 10\n",
      "Digite um numero: 5\n",
      "Digite um numero: 3\n",
      "Digite um numero: 2\n",
      "Digite um numero: 1\n",
      "Digite um numero: 7\n",
      "[4, 8, 9, 7, 10, 5, 3, 2, 1, 7]\n",
      "maior elemento: 10\n",
      "indice do maior elemento: 4\n"
     ]
    }
   ],
   "source": [
    "i = 0\n",
    "numeros = []\n",
    "while i < 10:\n",
    "    x = int(input('Digite um numero: '))\n",
    "    numeros.append(x)\n",
    "    i += 1\n",
    "print(numeros)\n",
    "print(f'maior elemento: {max(numeros)}')\n",
    "print(f'indice do maior elemento: {numeros.index(max(numeros))}')\n"
   ]
  },
  {
   "cell_type": "markdown",
   "metadata": {},
   "source": [
    "**Exercicio 5** - Faça um programa que leia 10 números reais, calcule e mostre a quantidade de números negativos e a soma dos números positivos."
   ]
  },
  {
   "cell_type": "code",
   "execution_count": null,
   "metadata": {},
   "outputs": [],
   "source": [
    "i = 0\n",
    "numeros = []\n",
    "while i < 10:\n",
    "    x = float(input('Digite um numero: '))\n",
    "    numeros.append(x)\n",
    "    i += 1\n",
    "print(numeros)\n",
    "count_m = 0\n",
    "soma_p = 0\n",
    "for num in numeros:\n",
    "    if num < 0:\n",
    "        count_m += 1\n",
    "    else:\n",
    "        soma_p += num\n",
    "print(f'Contagem de negativos: {count_m}')\n",
    "print(f'Soma dos positivos: {soma_p}')"
   ]
  },
  {
   "cell_type": "markdown",
   "metadata": {},
   "source": [
    "**Exercicio 6** - Leia um vetor de 5 números e atribua valor 0 para todos elementos que possuírem números negativos."
   ]
  },
  {
   "cell_type": "code",
   "execution_count": null,
   "metadata": {},
   "outputs": [],
   "source": [
    "i = 0\n",
    "numeros = []\n",
    "while i < 5:\n",
    "    x = float(input('Digite um numero: '))\n",
    "    numeros.append(x)\n",
    "    i += 1\n",
    "print(numeros)\n",
    "numeros_mod = [0 if num < 0 else num for num in numeros]\n",
    "print(numeros_mod)"
   ]
  }
 ],
 "metadata": {
  "kernelspec": {
   "display_name": "Python 3",
   "language": "python",
   "name": "python3"
  },
  "language_info": {
   "codemirror_mode": {
    "name": "ipython",
    "version": 3
   },
   "file_extension": ".py",
   "mimetype": "text/x-python",
   "name": "python",
   "nbconvert_exporter": "python",
   "pygments_lexer": "ipython3",
   "version": "3.6.5"
  }
 },
 "nbformat": 4,
 "nbformat_minor": 2
}
