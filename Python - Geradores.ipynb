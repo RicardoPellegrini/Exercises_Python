{
 "cells": [
  {
   "cell_type": "markdown",
   "metadata": {},
   "source": [
    "# Funções e expressões geradoras"
   ]
  },
  {
   "cell_type": "markdown",
   "metadata": {},
   "source": [
    "**Exercicio 1** - Faça um gerador que receba números e retorne o seu valor ao cubo."
   ]
  },
  {
   "cell_type": "code",
   "execution_count": 1,
   "metadata": {},
   "outputs": [
    {
     "name": "stdout",
     "output_type": "stream",
     "text": [
      "1.0 8.0 27.0 1.0 64.0 125.0 216.0 343.0 512.0 729.0 "
     ]
    }
   ],
   "source": [
    "def func_geradora(*args):\n",
    "    for arg in args:\n",
    "        try:\n",
    "            yield float(arg)**3\n",
    "        except ValueError:\n",
    "            pass\n",
    "\n",
    "        \n",
    "for num in func_geradora(1,2,'standing',3,True,4,5,6,7,8,9):\n",
    "    print(num, end=' ')"
   ]
  },
  {
   "cell_type": "markdown",
   "metadata": {},
   "source": [
    "**Exercicio 2** - Faça um gerador que receba números inteiros positivos e calcule o somatório de 1 até n para cada um desses números."
   ]
  },
  {
   "cell_type": "code",
   "execution_count": 7,
   "metadata": {},
   "outputs": [
    {
     "name": "stdout",
     "output_type": "stream",
     "text": [
      "903 496 378 3160 "
     ]
    }
   ],
   "source": [
    "def somatorio(*args):\n",
    "    for arg in args:\n",
    "        final = arg\n",
    "        numero = 1\n",
    "        soma = 0\n",
    "        try:\n",
    "            if int(final) > 0:\n",
    "                while numero < int(final):\n",
    "                    soma += numero\n",
    "                    numero += 1\n",
    "                yield soma\n",
    "            else:\n",
    "                pass\n",
    "        except ValueError:\n",
    "            pass\n",
    "\n",
    "\n",
    "for numero in somatorio(43,32,False,'estrada',28,80):\n",
    "    print(numero, end=' ')"
   ]
  },
  {
   "cell_type": "markdown",
   "metadata": {},
   "source": [
    "**Exercicio 3** - Utilizando função geradora, forneça a tabuada de um número inteiro n."
   ]
  },
  {
   "cell_type": "code",
   "execution_count": 11,
   "metadata": {},
   "outputs": [
    {
     "name": "stdout",
     "output_type": "stream",
     "text": [
      "Digite o número que deseja ver a tabuada: t\n",
      "O numero digitado deve ser um inteiro positivo.\n",
      "Digite o número que deseja ver a tabuada: t\n",
      "O numero digitado deve ser um inteiro positivo.\n",
      "Digite o número que deseja ver a tabuada: t\n",
      "O numero digitado deve ser um inteiro positivo.\n",
      "Digite o número que deseja ver a tabuada: t\n",
      "O numero digitado deve ser um inteiro positivo.\n",
      "Digite o número que deseja ver a tabuada: 4.5\n",
      "O numero digitado deve ser um inteiro positivo.\n",
      "Digite o número que deseja ver a tabuada: 4\n",
      "4 X 1 = 4\n",
      "4 X 2 = 8\n",
      "4 X 3 = 12\n",
      "4 X 4 = 16\n",
      "4 X 5 = 20\n",
      "4 X 6 = 24\n",
      "4 X 7 = 28\n",
      "4 X 8 = 32\n",
      "4 X 9 = 36\n",
      "4 X 10 = 40\n"
     ]
    }
   ],
   "source": [
    "while True:\n",
    "    try:\n",
    "        n = int(input('Digite o número que deseja ver a tabuada: '))\n",
    "        if n >= 1:\n",
    "            break\n",
    "    except ValueError:\n",
    "        print('O numero digitado deve ser um inteiro positivo.')\n",
    "\n",
    "def tabuada(n):\n",
    "    for i in range(1, 11):\n",
    "        yield f'{n} X {i} = {n*i}'\n",
    "\n",
    "for mult in tabuada(n):\n",
    "    print(mult)"
   ]
  },
  {
   "cell_type": "markdown",
   "metadata": {},
   "source": [
    "**Exercicio 4** - Repita o exercício acima, mas agora utilize uma expressão geradora ao invés de uma função."
   ]
  },
  {
   "cell_type": "code",
   "execution_count": 12,
   "metadata": {},
   "outputs": [
    {
     "name": "stdout",
     "output_type": "stream",
     "text": [
      "Digite o número que deseja ver a tabuada: e\n",
      "O numero digitado deve ser um inteiro positivo.\n",
      "Digite o número que deseja ver a tabuada: 3.98\n",
      "O numero digitado deve ser um inteiro positivo.\n",
      "Digite o número que deseja ver a tabuada: 8\n",
      "8 X 1 = 8\n",
      "8 X 2 = 16\n",
      "8 X 3 = 24\n",
      "8 X 4 = 32\n",
      "8 X 5 = 40\n",
      "8 X 6 = 48\n",
      "8 X 7 = 56\n",
      "8 X 8 = 64\n",
      "8 X 9 = 72\n",
      "8 X 10 = 80\n"
     ]
    }
   ],
   "source": [
    "while True:\n",
    "    try:\n",
    "        n = int(input('Digite o número que deseja ver a tabuada: '))\n",
    "        if n >= 1:\n",
    "            break\n",
    "    except ValueError:\n",
    "        print('O numero digitado deve ser um inteiro positivo.')\n",
    "\n",
    "tabuada = (f'{n} X {i} = {n*i}' for i in range(1, 11))\n",
    "for numero in tabuada:\n",
    "    print(numero)"
   ]
  },
  {
   "cell_type": "code",
   "execution_count": null,
   "metadata": {},
   "outputs": [],
   "source": []
  }
 ],
 "metadata": {
  "kernelspec": {
   "display_name": "Python 3",
   "language": "python",
   "name": "python3"
  },
  "language_info": {
   "codemirror_mode": {
    "name": "ipython",
    "version": 3
   },
   "file_extension": ".py",
   "mimetype": "text/x-python",
   "name": "python",
   "nbconvert_exporter": "python",
   "pygments_lexer": "ipython3",
   "version": "3.6.5"
  }
 },
 "nbformat": 4,
 "nbformat_minor": 2
}
