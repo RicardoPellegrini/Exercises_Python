{
 "cells": [
  {
   "cell_type": "markdown",
   "metadata": {},
   "source": [
    "# Funções"
   ]
  },
  {
   "cell_type": "markdown",
   "metadata": {},
   "source": [
    "**Exercicio 1** - Crie uma função que receba um número e retorne 1, se for positivo; -1, se for negativo; e 0, se for 0."
   ]
  },
  {
   "cell_type": "code",
   "execution_count": 1,
   "metadata": {},
   "outputs": [
    {
     "name": "stdout",
     "output_type": "stream",
     "text": [
      "1\n",
      "0\n",
      "-1\n"
     ]
    }
   ],
   "source": [
    "def pos_neg(x):\n",
    "    if x > 0:\n",
    "        return 1\n",
    "    elif x < 0:\n",
    "        return -1\n",
    "    return 0\n",
    "\n",
    "print(pos_neg(8))\n",
    "print(pos_neg(0))\n",
    "print(pos_neg(-2))\n"
   ]
  },
  {
   "cell_type": "markdown",
   "metadata": {},
   "source": [
    "**Exercicio 2** - Crie uma função que indique se um número é um quadrado perfeito."
   ]
  },
  {
   "cell_type": "code",
   "execution_count": 2,
   "metadata": {},
   "outputs": [
    {
     "name": "stdout",
     "output_type": "stream",
     "text": [
      "É quadrado perfeito\n",
      "Não é quadrado perfeito\n",
      "É quadrado perfeito\n",
      "É quadrado perfeito\n",
      "Não existe raiz real para número negativo\n"
     ]
    }
   ],
   "source": [
    "from math import sqrt\n",
    "\n",
    "def quadrado_perfeito(x):\n",
    "    if x >= 0 and sqrt(x) == int(sqrt(x)):\n",
    "        return 'É quadrado perfeito'\n",
    "    elif x < 0:\n",
    "        return 'Não existe raiz real para número negativo'\n",
    "    return 'Não é quadrado perfeito'\n",
    "\n",
    "print(quadrado_perfeito(4))\n",
    "print(quadrado_perfeito(7))\n",
    "print(quadrado_perfeito(9))\n",
    "print(quadrado_perfeito(0))\n",
    "print(quadrado_perfeito(-4))"
   ]
  },
  {
   "cell_type": "markdown",
   "metadata": {},
   "source": [
    "**Exercicio 3** - Faça uma função que receba 3 notas e uma letra. Quando a letra for 'A', faça a média aritmética; quando for 'P', faça a média pondera em 5, 3 e 2."
   ]
  },
  {
   "cell_type": "code",
   "execution_count": 3,
   "metadata": {},
   "outputs": [
    {
     "name": "stdout",
     "output_type": "stream",
     "text": [
      "6.799999999999999\n",
      "7.333333333333333\n",
      "Não foi escolhida uma média válida\n"
     ]
    }
   ],
   "source": [
    "def media(n1, n2, n3, letra):\n",
    "    if letra.upper() == 'A':\n",
    "        return (n1+n2+n3)/3\n",
    "    elif letra.upper() == 'P':\n",
    "        return 0.5*n1 + 0.3*n2 + 0.2*n3\n",
    "    return 'Não foi escolhida uma média válida'\n",
    "\n",
    "print(media(5,9,8,'P'))\n",
    "print(media(5,9,8,'A'))\n",
    "print(media(8,9,3,'Z'))"
   ]
  },
  {
   "cell_type": "markdown",
   "metadata": {},
   "source": [
    "**Exercicio 4** - Escreva uma função que receba três medidas e verifique se é um triângulo. Se for um triângulo, verifique qual tipo de triângulo ele é."
   ]
  },
  {
   "cell_type": "code",
   "execution_count": 4,
   "metadata": {},
   "outputs": [
    {
     "name": "stdout",
     "output_type": "stream",
     "text": [
      "É um triangulo escaleno\n",
      "É um triangulo equilatero\n",
      "É um triangulo isosceles\n",
      "Não se trata de um triangulo\n",
      "Comprimentos não podem ser <= 0\n"
     ]
    }
   ],
   "source": [
    "def verif_triangulo(med1, med2, med3):\n",
    "    if med1 > 0 and med2 > 0 and med3 > 0:\n",
    "        if med1 < (med2 + med3) and med2 < (med1 + med3) and med3 < (med1 + med2):\n",
    "            if med1 == med2 == med3:\n",
    "                return 'É um triangulo equilatero'\n",
    "            elif med1 == med2 or med1 == med3 or med2 == med3:\n",
    "                return 'É um triangulo isosceles'\n",
    "            return 'É um triangulo escaleno'\n",
    "        return 'Não se trata de um triangulo'\n",
    "    return 'Comprimentos não podem ser <= 0'\n",
    "\n",
    "print(verif_triangulo(3,4,5))\n",
    "print(verif_triangulo(5,5,5))\n",
    "print(verif_triangulo(9,9,7))\n",
    "print(verif_triangulo(10,4,5))\n",
    "print(verif_triangulo(-2,4,0))"
   ]
  },
  {
   "cell_type": "markdown",
   "metadata": {},
   "source": [
    "**Exercicio 5** - Faça uma função que calcule o fatorial de um número."
   ]
  },
  {
   "cell_type": "code",
   "execution_count": 5,
   "metadata": {},
   "outputs": [
    {
     "name": "stdout",
     "output_type": "stream",
     "text": [
      "120\n",
      "5040\n",
      "362880\n",
      "1\n",
      "Não existe fatorial de número negativo\n"
     ]
    }
   ],
   "source": [
    "def fatorial(x):\n",
    "    if x == 0:\n",
    "        f = 1\n",
    "    elif x < 0:\n",
    "        return 'Não existe fatorial de número negativo'\n",
    "    else:\n",
    "        f = x\n",
    "        i = 1\n",
    "        while i < x:\n",
    "            f = f*(x-i)\n",
    "            i += 1\n",
    "    return f\n",
    "\n",
    "print(fatorial(5))\n",
    "print(fatorial(7))\n",
    "print(fatorial(9))\n",
    "print(fatorial(0))\n",
    "print(fatorial(-3))"
   ]
  },
  {
   "cell_type": "markdown",
   "metadata": {},
   "source": [
    "**Exercicio 6** - Faça uma função que desenhe uma árvore de base (2n-1), recebendo valor de n."
   ]
  },
  {
   "cell_type": "code",
   "execution_count": 6,
   "metadata": {},
   "outputs": [
    {
     "name": "stdout",
     "output_type": "stream",
     "text": [
      "     *     \n",
      "    ***    \n",
      "   *****   \n",
      "  *******  \n",
      " ********* \n"
     ]
    }
   ],
   "source": [
    "def arvore(n):\n",
    "    for i in range(1,n):\n",
    "        print((n-i)*' '+ (2*i-1)*'*'+ (n-i)*' ')\n",
    "\n",
    "arvore(6)"
   ]
  },
  {
   "cell_type": "markdown",
   "metadata": {},
   "source": [
    "**Exercicio 7** - Faça uma função que receba um vetor de inteiros e que conte quantos números pares ele possui."
   ]
  },
  {
   "cell_type": "code",
   "execution_count": 7,
   "metadata": {},
   "outputs": [
    {
     "name": "stdout",
     "output_type": "stream",
     "text": [
      "3\n",
      "5\n",
      "2\n"
     ]
    }
   ],
   "source": [
    "def pares(*args):\n",
    "    contador = 0\n",
    "    for i in args:\n",
    "        if type(i) == int:\n",
    "            if i % 2 == 0:\n",
    "                contador += 1\n",
    "        else:\n",
    "            pass\n",
    "    return contador\n",
    "\n",
    "print(pares(1,6,5,8,5,3,9,10))\n",
    "print(pares(0,8,6,9,8,3,2))\n",
    "print(pares('futebol',2,4,5,7,'livro'))"
   ]
  },
  {
   "cell_type": "markdown",
   "metadata": {},
   "source": [
    "**Exercicio 8** - Faça uma função que receba valores reais e que calcule sua média."
   ]
  },
  {
   "cell_type": "code",
   "execution_count": 8,
   "metadata": {},
   "outputs": [
    {
     "name": "stdout",
     "output_type": "stream",
     "text": [
      "4.5\n"
     ]
    }
   ],
   "source": [
    "from statistics import mean\n",
    "\n",
    "def media_vetor(*args):\n",
    "    return mean(args)\n",
    "\n",
    "print(media_vetor(1,2,3,4,5,6,7,8))"
   ]
  },
  {
   "cell_type": "markdown",
   "metadata": {},
   "source": [
    "**Exercicio 9** - Faça uma função que receba uma matriz 4x4 e retorne quantos valores nela são maiores que 10."
   ]
  },
  {
   "cell_type": "code",
   "execution_count": 9,
   "metadata": {},
   "outputs": [
    {
     "name": "stdout",
     "output_type": "stream",
     "text": [
      "3\n",
      "Não foi inserido numero certo linhas\n"
     ]
    }
   ],
   "source": [
    "def maior_10(matriz: list):\n",
    "    if len(matriz) != 4:\n",
    "        return 'Não foi inserido numero certo linhas'\n",
    "    for linha in matriz:\n",
    "        if len(linha) != 4:\n",
    "            return 'Não foi inserido numero certo de valores na linha'\n",
    "    contador = 0\n",
    "    for linha in matriz:\n",
    "        for numero in linha:\n",
    "            if numero > 10:\n",
    "                contador += 1\n",
    "    return contador\n",
    "\n",
    "print(maior_10([[1,5,10,21],[4,6,19,2],[0,2,4,5],[1,1,10,11]]))\n",
    "print(maior_10([[5,10,21],[4,6,19,2],[0,2,4,5]]))"
   ]
  },
  {
   "cell_type": "markdown",
   "metadata": {},
   "source": [
    "**Exercicio 10** Faça uma função que receba uma matriz, e verifique se ela é matriz identidade."
   ]
  },
  {
   "cell_type": "code",
   "execution_count": 10,
   "metadata": {},
   "outputs": [
    {
     "name": "stdout",
     "output_type": "stream",
     "text": [
      "É identidade\n",
      "Não é identidade\n",
      "A matriz não é quadrada, então não é identidade\n"
     ]
    }
   ],
   "source": [
    "def verif_identidade(matriz: list):\n",
    "    ## Verificando se a matriz é quadrada\n",
    "    for linha in matriz:\n",
    "        if len(linha) != int(len(matriz)):\n",
    "            return 'A matriz não é quadrada, então não é identidade'\n",
    "    for i in range(len(matriz)):\n",
    "        for j in range(len(matriz[i])):\n",
    "            if (i == j and matriz[i][j] == 1) or (i != j and matriz[i][j] == 0):\n",
    "                pass\n",
    "            else:\n",
    "                return 'Não é identidade'\n",
    "        return 'É identidade'\n",
    "\n",
    "print(verif_identidade([[1,0,0,0],[0,1,0,0],[0,0,1,0],[0,0,0,1]]))\n",
    "print(verif_identidade([[1,1,0],[1,1,0],[1,0,1]]))\n",
    "print(verif_identidade([[1,1,0,4],[1,1,0],[1,0,1]]))"
   ]
  },
  {
   "cell_type": "markdown",
   "metadata": {},
   "source": [
    "**Exercicio 11** - Faça uma função que verifique se uma string é anagrama de outra."
   ]
  },
  {
   "cell_type": "code",
   "execution_count": 1,
   "metadata": {},
   "outputs": [
    {
     "name": "stdout",
     "output_type": "stream",
     "text": [
      "Não é anagrama\n",
      "É anagrama\n",
      "É anagrama\n",
      "Não é anagrama\n"
     ]
    }
   ],
   "source": [
    "def anagrama(str1, str2):\n",
    "    if sorted(list(str1.upper().strip())) == sorted(list(str2.upper().strip())):\n",
    "        return 'É anagrama'\n",
    "    return 'Não é anagrama'\n",
    "\n",
    "print(anagrama('batata', 'tabatas'))\n",
    "print(anagrama('batata', 'tabata'))\n",
    "print(anagrama('voo', 'ovo'))\n",
    "print(anagrama('carro', 'carroça'))"
   ]
  },
  {
   "cell_type": "markdown",
   "metadata": {},
   "source": [
    "**Exercicio 12** - Faça uma função que forneça a transporta da matriz."
   ]
  },
  {
   "cell_type": "code",
   "execution_count": 5,
   "metadata": {},
   "outputs": [
    {
     "name": "stdout",
     "output_type": "stream",
     "text": [
      "[[1, 4, 7], [2, 5, 8], [3, 6, 9]]\n",
      "[[1, 4], [2, 5], [3, 6]]\n",
      "Isso não representa uma matriz\n"
     ]
    }
   ],
   "source": [
    "def transposta(matriz: list):\n",
    "    linhas = len(matriz[0])\n",
    "    colunas = len(matriz)\n",
    "    for coluna in matriz:\n",
    "        if len(coluna) == linhas:\n",
    "            pass\n",
    "        else:\n",
    "            return 'Isso não representa uma matriz'\n",
    "    t = [[matriz[coluna][linha] for coluna in range(colunas)] for linha in range(linhas)]\n",
    "    return t\n",
    "\n",
    "print(transposta([[1,2,3],[4,5,6],[7,8,9]]))\n",
    "print(transposta([[1,2,3],[4,5,6]]))\n",
    "print(transposta([[1,2,3],[4,5]]))"
   ]
  },
  {
   "cell_type": "code",
   "execution_count": null,
   "metadata": {},
   "outputs": [],
   "source": []
  }
 ],
 "metadata": {
  "kernelspec": {
   "display_name": "Python 3",
   "language": "python",
   "name": "python3"
  },
  "language_info": {
   "codemirror_mode": {
    "name": "ipython",
    "version": 3
   },
   "file_extension": ".py",
   "mimetype": "text/x-python",
   "name": "python",
   "nbconvert_exporter": "python",
   "pygments_lexer": "ipython3",
   "version": "3.6.5"
  }
 },
 "nbformat": 4,
 "nbformat_minor": 2
}
